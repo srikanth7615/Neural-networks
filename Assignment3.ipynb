{
  "nbformat": 4,
  "nbformat_minor": 0,
  "metadata": {
    "colab": {
      "provenance": [],
      "authorship_tag": "ABX9TyMtzCDKI+jUBTj539+v/lKZ",
      "include_colab_link": true
    },
    "kernelspec": {
      "name": "python3",
      "display_name": "Python 3"
    },
    "language_info": {
      "name": "python"
    }
  },
  "cells": [
    {
      "cell_type": "markdown",
      "metadata": {
        "id": "view-in-github",
        "colab_type": "text"
      },
      "source": [
        "<a href=\"https://colab.research.google.com/github/srikanth7615/Neural-networks/blob/main/Assignment3.ipynb\" target=\"_parent\"><img src=\"https://colab.research.google.com/assets/colab-badge.svg\" alt=\"Open In Colab\"/></a>"
      ]
    },
    {
      "cell_type": "code",
      "execution_count": 46,
      "metadata": {
        "colab": {
          "base_uri": "https://localhost:8080/"
        },
        "id": "MeJutCnQvEeu",
        "outputId": "bf258dee-ce1d-4575-a7d3-4bd444d8bb7c"
      },
      "outputs": [
        {
          "output_type": "stream",
          "name": "stdout",
          "text": [
            "Average Salary: 60000.0\n",
            "Number of Employees: 3\n"
          ]
        }
      ],
      "source": [
        "class Employee:            # creating a Employee class\n",
        "    No_employees = 0\n",
        "\n",
        "    def __init__(self, name, family, salary, department):\n",
        "        self.name = name\n",
        "        self.family = family\n",
        "        self.salary = salary\n",
        "        self.department = department\n",
        "        Employee.No_employees += 1\n",
        "\n",
        "    def average_salary(self, employee_list):      # creating a function to avg the salaries\n",
        "        total_salary = sum(emp.salary for emp in employee_list)\n",
        "        return  total_salary / len(employee_list) if len(employee_list) > 0 else 0\n",
        "class FulltimeEmp(Employee):             # inheriting the properties of Employee class\n",
        "    def __init__(self, name, family, salary, department,current_position):\n",
        "        super().__init__(name, family, salary, department)\n",
        "        self.current_postion = current_position\n",
        "emp1 = Employee(\"srikanth\", \"Family1\", 50000, \"Software\") #creating the instances for Employee and Fulltime employee class\n",
        "emp2 = Employee(\"akhil\", \"Family2\", 60000, \"Electrical\")\n",
        "fulltime_emp = FulltimeEmp(\"Ajay\", \"Family3\", 70000, \"business\", \"owner\")\n",
        "employee_list = [emp1, emp2, fulltime_emp]\n",
        "avg_salary = emp1.average_salary(employee_list)\n",
        "print(f\"Average Salary: {avg_salary}\")             #printing the average salary\n",
        "print(f\"Number of Employees: {Employee.No_employees}\") #printing the No of employees\n",
        "\n"
      ]
    },
    {
      "cell_type": "code",
      "source": [
        "import numpy as np   # importing numpy\n",
        "random_vector = np.random.rand(20) # creating the Random vector\n",
        "reshaped_array = random_vector.reshape(4, 5) # reshaping the array\n",
        "reshaped_array[np.arange(4), np.argmax(reshaped_array, axis=1)] = 0  # replacing the max in each row with Zero\n",
        "print(\"Original Vector:\")\n",
        "print(random_vector)\n",
        "print(\"\\nReshaped Array:\")\n",
        "print(reshaped_array)\n"
      ],
      "metadata": {
        "colab": {
          "base_uri": "https://localhost:8080/"
        },
        "id": "hLk9DUcA7fpr",
        "outputId": "3db020a3-684f-4fa8-844c-ccac9ce65a94"
      },
      "execution_count": 65,
      "outputs": [
        {
          "output_type": "stream",
          "name": "stdout",
          "text": [
            "Original Vector:\n",
            "[0.4768071  0.79425108 0.         0.0639659  0.2702721  0.\n",
            " 0.38906668 0.35793505 0.12744145 0.63512081 0.52319061 0.78399171\n",
            " 0.73399407 0.72200173 0.         0.72846826 0.52886495 0.02508979\n",
            " 0.         0.48223603]\n",
            "\n",
            "Reshaped Array:\n",
            "[[0.4768071  0.79425108 0.         0.0639659  0.2702721 ]\n",
            " [0.         0.38906668 0.35793505 0.12744145 0.63512081]\n",
            " [0.52319061 0.78399171 0.73399407 0.72200173 0.        ]\n",
            " [0.72846826 0.52886495 0.02508979 0.         0.48223603]]\n"
          ]
        }
      ]
    }
  ]
}