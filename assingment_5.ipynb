{
  "nbformat": 4,
  "nbformat_minor": 0,
  "metadata": {
    "colab": {
      "provenance": [],
      "authorship_tag": "ABX9TyPECAcyjteF2fWPOit94DC6",
      "include_colab_link": true
    },
    "kernelspec": {
      "name": "python3",
      "display_name": "Python 3"
    },
    "language_info": {
      "name": "python"
    }
  },
  "cells": [
    {
      "cell_type": "markdown",
      "metadata": {
        "id": "view-in-github",
        "colab_type": "text"
      },
      "source": [
        "<a href=\"https://colab.research.google.com/github/srikanth7615/Neural-networks/blob/main/assingment_5.ipynb\" target=\"_parent\"><img src=\"https://colab.research.google.com/assets/colab-badge.svg\" alt=\"Open In Colab\"/></a>"
      ]
    },
    {
      "cell_type": "code",
      "execution_count": 12,
      "metadata": {
        "colab": {
          "base_uri": "https://localhost:8080/"
        },
        "id": "07QnhxtHe_1k",
        "outputId": "1fac8eca-4568-4b17-c71d-e05fe1f027d3"
      },
      "outputs": [
        {
          "output_type": "stream",
          "name": "stdout",
          "text": [
            "Accuracy: 1.0\n",
            "Classification Report For Navie Bayes:\n",
            "              precision    recall  f1-score   support\n",
            "\n",
            "           0       1.00      1.00      1.00        10\n",
            "           1       1.00      1.00      1.00         9\n",
            "           2       1.00      1.00      1.00        11\n",
            "\n",
            "    accuracy                           1.00        30\n",
            "   macro avg       1.00      1.00      1.00        30\n",
            "weighted avg       1.00      1.00      1.00        30\n",
            "\n"
          ]
        }
      ],
      "source": [
        "from sklearn.datasets import load_iris\n",
        "from sklearn.model_selection import train_test_split\n",
        "from sklearn.naive_bayes import GaussianNB\n",
        "from sklearn.metrics import classification_report\n",
        "\n",
        "glass_data_sri = load_iris()\n",
        "X = glass_data_sri.data\n",
        "y = glass_data_sri.target\n",
        "X_train, X_test, y_train, y_test = train_test_split(X, y, test_size=0.2, random_state=42)\n",
        "navie_bayes_classifier = GaussianNB()\n",
        "navie_bayes_classifier.fit(X_train, y_train)\n",
        "y_pred = navie_bayes_classifier.predict(X_test)\n",
        "accuracy = navie_bayes_classifier.score(X_test, y_test)\n",
        "print(\"Accuracy:\", accuracy)\n",
        "report = classification_report(y_test, y_pred)\n",
        "print(\"Classification Report For Navie Bayes:\")\n",
        "print(report)"
      ]
    },
    {
      "cell_type": "code",
      "source": [
        "from sklearn.svm import SVC\n",
        "from sklearn.metrics import classification_report\n",
        "\n",
        "svm_classifier_sri= SVC(kernel='linear')\n",
        "svm_classifier_sri.fit(X_train, y_train)\n",
        "y_pred_svm = svm_classifier_sri.predict(X_test)\n",
        "accuracy_svm = svm_classifier_sri.score(X_test, y_test)\n",
        "print(\"Linear SVM Accuracy:\", accuracy_svm)\n",
        "report_svm = classification_report(y_test, y_pred_svm)\n",
        "print(\"Classification Report for Linear SVM:\")\n",
        "print(report_svm)"
      ],
      "metadata": {
        "colab": {
          "base_uri": "https://localhost:8080/"
        },
        "id": "GhI3McJbgMvO",
        "outputId": "e32b43cf-8869-40d9-c843-95b1a9e32dba"
      },
      "execution_count": 13,
      "outputs": [
        {
          "output_type": "stream",
          "name": "stdout",
          "text": [
            "Linear SVM Accuracy: 1.0\n",
            "Classification Report for Linear SVM:\n",
            "              precision    recall  f1-score   support\n",
            "\n",
            "           0       1.00      1.00      1.00        10\n",
            "           1       1.00      1.00      1.00         9\n",
            "           2       1.00      1.00      1.00        11\n",
            "\n",
            "    accuracy                           1.00        30\n",
            "   macro avg       1.00      1.00      1.00        30\n",
            "weighted avg       1.00      1.00      1.00        30\n",
            "\n"
          ]
        }
      ]
    }
  ]
}