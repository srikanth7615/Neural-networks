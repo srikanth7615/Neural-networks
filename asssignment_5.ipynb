{
  "nbformat": 4,
  "nbformat_minor": 0,
  "metadata": {
    "colab": {
      "provenance": [],
      "mount_file_id": "1RXtyD-kJFTc3OahkV135e0lIJSkj5z8o",
      "authorship_tag": "ABX9TyM7CbJh7DVYeIIWC3CBbbVb",
      "include_colab_link": true
    },
    "kernelspec": {
      "name": "python3",
      "display_name": "Python 3"
    },
    "language_info": {
      "name": "python"
    }
  },
  "cells": [
    {
      "cell_type": "markdown",
      "metadata": {
        "id": "view-in-github",
        "colab_type": "text"
      },
      "source": [
        "<a href=\"https://colab.research.google.com/github/srikanth7615/Neural-networks/blob/main/asssignment_5.ipynb\" target=\"_parent\"><img src=\"https://colab.research.google.com/assets/colab-badge.svg\" alt=\"Open In Colab\"/></a>"
      ]
    },
    {
      "cell_type": "code",
      "source": [
        "import pandas as pd  # importing the pandas\n",
        "file_sri ='data.csv' # locating the data.csv file\n",
        "data_sri = pd.read_csv(file_sri) # Reading the csv file\n",
        "print(data_sri)\n"
      ],
      "metadata": {
        "colab": {
          "base_uri": "https://localhost:8080/"
        },
        "id": "UrxsZvRvliQN",
        "outputId": "ef4861b8-d403-4ebd-8055-5639c3af6463"
      },
      "execution_count": null,
      "outputs": [
        {
          "output_type": "stream",
          "name": "stdout",
          "text": [
            "     Duration  Pulse  Maxpulse  Calories\n",
            "0          60    110       130     409.1\n",
            "1          60    117       145     479.0\n",
            "2          60    103       135     340.0\n",
            "3          45    109       175     282.4\n",
            "4          45    117       148     406.0\n",
            "..        ...    ...       ...       ...\n",
            "164        60    105       140     290.8\n",
            "165        60    110       145     300.0\n",
            "166        60    115       145     310.2\n",
            "167        75    120       150     320.4\n",
            "168        75    125       150     330.4\n",
            "\n",
            "[169 rows x 4 columns]\n"
          ]
        }
      ]
    },
    {
      "cell_type": "code",
      "source": [
        "stat_description = data_sri.describe()\n",
        "print(stat_description) # printing statistical description of data"
      ],
      "metadata": {
        "colab": {
          "base_uri": "https://localhost:8080/"
        },
        "id": "Amy6x9d3nMIY",
        "outputId": "e378a8f7-3ccb-4965-af13-7a069640cc52"
      },
      "execution_count": null,
      "outputs": [
        {
          "output_type": "stream",
          "name": "stdout",
          "text": [
            "         Duration       Pulse    Maxpulse     Calories\n",
            "count  169.000000  169.000000  169.000000   164.000000\n",
            "mean    63.846154  107.461538  134.047337   375.790244\n",
            "std     42.299949   14.510259   16.450434   266.379919\n",
            "min     15.000000   80.000000  100.000000    50.300000\n",
            "25%     45.000000  100.000000  124.000000   250.925000\n",
            "50%     60.000000  105.000000  131.000000   318.600000\n",
            "75%     60.000000  111.000000  141.000000   387.600000\n",
            "max    300.000000  159.000000  184.000000  1860.400000\n"
          ]
        }
      ]
    },
    {
      "cell_type": "code",
      "source": [
        "Null_values = data_sri.isnull().sum()  # locating the null values\n",
        "print(\"NUll Values in the data\\n:\",Null_values) # printing null values\n",
        "data_sri =data_sri.fillna(data_sri.mean())  # replcing the null values with mean values\n",
        "print(\"Replacing Null values with mean\\n:\",data_sri)\n"
      ],
      "metadata": {
        "colab": {
          "base_uri": "https://localhost:8080/"
        },
        "id": "HVhVBRggoJB1",
        "outputId": "8f37b216-2696-4be0-beb3-a1e9c8dcb8a5"
      },
      "execution_count": null,
      "outputs": [
        {
          "output_type": "stream",
          "name": "stdout",
          "text": [
            "NUll Values in the data\n",
            ": Duration    0\n",
            "Pulse       0\n",
            "Maxpulse    0\n",
            "Calories    0\n",
            "dtype: int64\n",
            "Replacing Null values with mean\n",
            ":      Duration  Pulse  Maxpulse  Calories\n",
            "0          60    110       130     409.1\n",
            "1          60    117       145     479.0\n",
            "2          60    103       135     340.0\n",
            "3          45    109       175     282.4\n",
            "4          45    117       148     406.0\n",
            "..        ...    ...       ...       ...\n",
            "164        60    105       140     290.8\n",
            "165        60    110       145     300.0\n",
            "166        60    115       145     310.2\n",
            "167        75    120       150     320.4\n",
            "168        75    125       150     330.4\n",
            "\n",
            "[169 rows x 4 columns]\n"
          ]
        }
      ]
    },
    {
      "cell_type": "code",
      "source": [
        "select_columns = data_sri[['Duration','Calories']] # selecting two columnns\n",
        "aggregated_data = select_columns.agg(['min','max','count','mean']) #aggregating the data with min,max,count,mean\n",
        "print(\"aggregated data:\\n\",aggregated_data)\n"
      ],
      "metadata": {
        "colab": {
          "base_uri": "https://localhost:8080/"
        },
        "id": "bnHEuIWAwZM9",
        "outputId": "7c5d93a7-8ff0-43e6-9174-785cb4c31ff3"
      },
      "execution_count": null,
      "outputs": [
        {
          "output_type": "stream",
          "name": "stdout",
          "text": [
            "aggregated data:\n",
            "          Duration     Calories\n",
            "min     15.000000    50.300000\n",
            "max    300.000000  1860.400000\n",
            "count  169.000000   169.000000\n",
            "mean    63.846154   375.790244\n"
          ]
        }
      ]
    },
    {
      "cell_type": "code",
      "source": [
        "# slecting the values of Calories column between 500 and 1000\n",
        "filter_data = data_sri[(data_sri['Calories']>= 500) & (data_sri['Calories'] <= 1000)]\n",
        "print(\"Filtered data to select the rows with calories: \\n :\",filter_data)"
      ],
      "metadata": {
        "colab": {
          "base_uri": "https://localhost:8080/"
        },
        "id": "PD8tOsOoo7xV",
        "outputId": "32bf351e-7a71-4810-f799-989aa973edd4"
      },
      "execution_count": null,
      "outputs": [
        {
          "output_type": "stream",
          "name": "stdout",
          "text": [
            "Filtered data to select the rows with calories: \n",
            " :      Duration  Pulse  Maxpulse  Calories\n",
            "51         80    123       146     643.1\n",
            "62        160    109       135     853.0\n",
            "65        180     90       130     800.4\n",
            "66        150    105       135     873.4\n",
            "67        150    107       130     816.0\n",
            "72         90    100       127     700.0\n",
            "73        150     97       127     953.2\n",
            "75         90     98       125     563.2\n",
            "78        120    100       130     500.4\n",
            "83        120    100       130     500.0\n",
            "90        180    101       127     600.1\n",
            "99         90     93       124     604.1\n",
            "101        90     90       110     500.0\n",
            "102        90     90       100     500.0\n",
            "103        90     90       100     500.4\n",
            "106       180     90       120     800.3\n",
            "108        90     90       120     500.3\n"
          ]
        }
      ]
    },
    {
      "cell_type": "code",
      "source": [
        "#  slecting the values of Calories column value > 500 and pulse <100\n",
        "Filter_data = data_sri[(data_sri['Calories']> 500) & (data_sri['Pulse'] < 100)]\n",
        "print(\"Filtered data to select the rows with calories and Pulse: \\n :\",Filter_data)"
      ],
      "metadata": {
        "colab": {
          "base_uri": "https://localhost:8080/"
        },
        "id": "7EHani_M6AUS",
        "outputId": "00e66e11-74ed-4169-8a17-3e2c3adf491f"
      },
      "execution_count": null,
      "outputs": [
        {
          "output_type": "stream",
          "name": "stdout",
          "text": [
            "Filtered data to select the rows with calories and Pulse: \n",
            " :      Duration  Pulse  Maxpulse  Calories\n",
            "65        180     90       130     800.4\n",
            "70        150     97       129    1115.0\n",
            "73        150     97       127     953.2\n",
            "75         90     98       125     563.2\n",
            "99         90     93       124     604.1\n",
            "103        90     90       100     500.4\n",
            "106       180     90       120     800.3\n",
            "108        90     90       120     500.3\n"
          ]
        }
      ]
    },
    {
      "cell_type": "code",
      "source": [
        "# dataframe that contains all the columns from df except for maxpulse\n",
        "df_modified = data_sri.drop(columns=['Maxpulse'])\n",
        "print(\"printing data that contains all the columns expect Maxpilse: \\n\",df_modified)"
      ],
      "metadata": {
        "colab": {
          "base_uri": "https://localhost:8080/"
        },
        "id": "-JSu4iqo7n7M",
        "outputId": "7dfbf24d-142d-4bfe-f103-87e747145b94"
      },
      "execution_count": null,
      "outputs": [
        {
          "output_type": "stream",
          "name": "stdout",
          "text": [
            "printing data that contains all the columns expect Maxpilse: \n",
            "      Duration  Pulse  Calories\n",
            "0          60    110     409.1\n",
            "1          60    117     479.0\n",
            "2          60    103     340.0\n",
            "3          45    109     282.4\n",
            "4          45    117     406.0\n",
            "..        ...    ...       ...\n",
            "164        60    105     290.8\n",
            "165        60    110     300.0\n",
            "166        60    115     310.2\n",
            "167        75    120     320.4\n",
            "168        75    125     330.4\n",
            "\n",
            "[169 rows x 3 columns]\n"
          ]
        }
      ]
    },
    {
      "cell_type": "code",
      "source": [
        "import pandas as pd\n",
        "file_sri ='data.csv'\n",
        "data_sri = pd.read_csv(file_sri)\n",
        "del data_sri['Maxpulse'] # Deleting the Maxpulse row fron main dataframe\n",
        "print(data_sri)\n"
      ],
      "metadata": {
        "colab": {
          "base_uri": "https://localhost:8080/"
        },
        "id": "FNstmve--ZJh",
        "outputId": "7a246d2a-d248-4e3b-a67f-854ed80b6bba"
      },
      "execution_count": null,
      "outputs": [
        {
          "output_type": "stream",
          "name": "stdout",
          "text": [
            "     Duration  Pulse  Calories\n",
            "0          60    110     409.1\n",
            "1          60    117     479.0\n",
            "2          60    103     340.0\n",
            "3          45    109     282.4\n",
            "4          45    117     406.0\n",
            "..        ...    ...       ...\n",
            "164        60    105     290.8\n",
            "165        60    110     300.0\n",
            "166        60    115     310.2\n",
            "167        75    120     320.4\n",
            "168        75    125     330.4\n",
            "\n",
            "[169 rows x 3 columns]\n"
          ]
        }
      ]
    },
    {
      "cell_type": "code",
      "source": [
        "import pandas as pd\n",
        "file_sri ='data.csv'\n",
        "data_sri = pd.read_csv(file_sri)\n",
        "data_sri['Calories'] = data_sri['Calories'].dropna().astype(int) # Convertion of calories column to int datatype\n",
        "print(\"Covertion of Calories column datatype to int datatype :\\n\",data_sri)"
      ],
      "metadata": {
        "colab": {
          "base_uri": "https://localhost:8080/"
        },
        "id": "vVt3_DLNBN_7",
        "outputId": "7c62caac-9791-45bc-c09f-b01afef536aa"
      },
      "execution_count": 68,
      "outputs": [
        {
          "output_type": "stream",
          "name": "stdout",
          "text": [
            "Covertion of Calories column datatype to int datatype :\n",
            "      Duration  Pulse  Maxpulse  Calories\n",
            "0          60    110       130     409.0\n",
            "1          60    117       145     479.0\n",
            "2          60    103       135     340.0\n",
            "3          45    109       175     282.0\n",
            "4          45    117       148     406.0\n",
            "..        ...    ...       ...       ...\n",
            "164        60    105       140     290.0\n",
            "165        60    110       145     300.0\n",
            "166        60    115       145     310.0\n",
            "167        75    120       150     320.0\n",
            "168        75    125       150     330.0\n",
            "\n",
            "[169 rows x 4 columns]\n"
          ]
        }
      ]
    },
    {
      "cell_type": "code",
      "source": [
        "import pandas as pd\n",
        "import matplotlib.pyplot as plt\n",
        "# scatterplot for the two columns(Duration vs Calories)\n",
        "data_sri.plot.scatter(x='Duration',y='Calories',title='Scatter plot: Duration vs Calories')\n",
        "plt.show()"
      ],
      "metadata": {
        "colab": {
          "base_uri": "https://localhost:8080/",
          "height": 472
        },
        "id": "fd6mK_bbN32G",
        "outputId": "1cc400f8-2598-4c7d-cfd6-86fd3fe50b9c"
      },
      "execution_count": 73,
      "outputs": [
        {
          "output_type": "display_data",
          "data": {
            "text/plain": [
              "<Figure size 640x480 with 1 Axes>"
            ],
            "image/png": "[encoded data removed]"
          },
          "metadata": {}
        }
      ]
    },
    {
      "cell_type": "code",
      "source": [
        "import pandas as pd\n",
        "from sklearn.model_selection import train_test_split\n",
        "from sklearn.linear_model import LinearRegression\n",
        "from sklearn.metrics import mean_squared_error\n",
        "import matplotlib.pyplot as plt\n",
        "\n",
        "file1 = 'Salary_Data (2).csv'\n",
        "df = pd.read_csv(file1)  # reading the CSV file\n",
        "print(df)\n",
        "x = df[['YearsExperience']]\n",
        "y = df['Salary']\n",
        " # splitting the the data into traning and testing\n",
        "x_train, x_test, y_train, y_test =train_test_split(x,y,test_size=1/3,random_state=42)\n",
        "model = LinearRegression()   # training the model\n",
        "model.fit(x_train, y_train)\n",
        "pred = model.predict(x_test)     # predicting the model\n",
        "MSE = mean_squared_error(y_test,pred)  # calculating mean square error\n",
        "print(\"Mean Square erroer: \\n\",MSE)\n",
        "   # Displaying both train and test data Using Scatterplot\n",
        "plt.scatter(x_train, y_train, color='Green', label= 'Traning data')\n",
        "plt.scatter(x_test, y_test, color='Red', label='Testing data')\n",
        "plt.plot(x_test,pred, color='Black',linewidth= 3, label ='Regression Line')\n",
        "plt.xlabel('Years of Experience\\n')\n",
        "plt.ylabel('Salary')\n",
        "plt.title('Linear Regression: Years of Experience vs Salary')\n",
        "plt.legend()\n",
        "plt.show()\n",
        "\n",
        "\n",
        "\n",
        "\n"
      ],
      "metadata": {
        "colab": {
          "base_uri": "https://localhost:8080/",
          "height": 1000
        },
        "id": "JgGBdTe_PZqj",
        "outputId": "0b0c74d3-e037-49c6-ca24-741a4dcda42a"
      },
      "execution_count": 100,
      "outputs": [
        {
          "output_type": "stream",
          "name": "stdout",
          "text": [
            "    YearsExperience    Salary\n",
            "0               1.1   39343.0\n",
            "1               1.3   46205.0\n",
            "2               1.5   37731.0\n",
            "3               2.0   43525.0\n",
            "4               2.2   39891.0\n",
            "5               2.9   56642.0\n",
            "6               3.0   60150.0\n",
            "7               3.2   54445.0\n",
            "8               3.2   64445.0\n",
            "9               3.7   57189.0\n",
            "10              3.9   63218.0\n",
            "11              4.0   55794.0\n",
            "12              4.0   56957.0\n",
            "13              4.1   57081.0\n",
            "14              4.5   61111.0\n",
            "15              4.9   67938.0\n",
            "16              5.1   66029.0\n",
            "17              5.3   83088.0\n",
            "18              5.9   81363.0\n",
            "19              6.0   93940.0\n",
            "20              6.8   91738.0\n",
            "21              7.1   98273.0\n",
            "22              7.9  101302.0\n",
            "23              8.2  113812.0\n",
            "24              8.7  109431.0\n",
            "25              9.0  105582.0\n",
            "26              9.5  116969.0\n",
            "27              9.6  112635.0\n",
            "28             10.3  122391.0\n",
            "29             10.5  121872.0\n",
            "Mean Square erroer: \n",
            " 35301898.887134895\n"
          ]
        },
        {
          "output_type": "display_data",
          "data": {
            "text/plain": [
              "<Figure size 640x480 with 1 Axes>"
            ],
            "image/png": "[encoded data removed]"
          },
          "metadata": {}
        }
      ]
    },
    {
      "cell_type": "code",
      "source": [
        "\n"
      ],
      "metadata": {
        "id": "V0MO5lRfTeLU"
      },
      "execution_count": 81,
      "outputs": []
    },
    {
      "cell_type": "code",
      "source": [],
      "metadata": {
        "id": "qlAdGyu3QhCL"
      },
      "execution_count": null,
      "outputs": []
    }
  ]
}